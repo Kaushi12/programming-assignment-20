{
 "cells": [
  {
   "cell_type": "code",
   "execution_count": 2,
   "id": "32f76679",
   "metadata": {},
   "outputs": [],
   "source": [
    "def filter_list(l):\n",
    "    l1=[]\n",
    "    for i in l:\n",
    "        if type(i)==int:\n",
    "            l1.append(i)\n",
    "    return l1\n"
   ]
  },
  {
   "cell_type": "code",
   "execution_count": 3,
   "id": "0ffce950",
   "metadata": {},
   "outputs": [
    {
     "data": {
      "text/plain": [
       "[1, 2, 4]"
      ]
     },
     "execution_count": 3,
     "metadata": {},
     "output_type": "execute_result"
    }
   ],
   "source": [
    "filter_list([\"a\",1,2,\"b\",\"d\",4])"
   ]
  },
  {
   "cell_type": "code",
   "execution_count": 5,
   "id": "ad7b7700",
   "metadata": {},
   "outputs": [],
   "source": [
    "def add_indexes(li):\n",
    "    add=0\n",
    "    new=[]\n",
    "    for i in li:\n",
    "        add=i+li.index(i)\n",
    "        new.append(add)\n",
    "    return new\n",
    "        \n",
    "        "
   ]
  },
  {
   "cell_type": "code",
   "execution_count": 6,
   "id": "ce2a6171",
   "metadata": {},
   "outputs": [
    {
     "data": {
      "text/plain": [
       "[1, 3, 5, 7, 9]"
      ]
     },
     "execution_count": 6,
     "metadata": {},
     "output_type": "execute_result"
    }
   ],
   "source": [
    "add_indexes([1,2,3,4,5])"
   ]
  },
  {
   "cell_type": "code",
   "execution_count": 17,
   "id": "e5a2a350",
   "metadata": {},
   "outputs": [],
   "source": [
    "import math\n",
    "def cone_volume(r,h):\n",
    "    volume=(22*r*r*h)/21\n",
    "    return (round(volume,2))\n",
    "    "
   ]
  },
  {
   "cell_type": "code",
   "execution_count": 20,
   "id": "6082b426",
   "metadata": {},
   "outputs": [
    {
     "data": {
      "text/plain": [
       "12.57"
      ]
     },
     "execution_count": 20,
     "metadata": {},
     "output_type": "execute_result"
    }
   ],
   "source": [
    "cone_volume(2,3)"
   ]
  },
  {
   "cell_type": "code",
   "execution_count": 21,
   "id": "8370b005",
   "metadata": {},
   "outputs": [],
   "source": [
    "def triangle(n):\n",
    "    start=0\n",
    "    for i in range(1,n+1):\n",
    "        start=start+i\n",
    "    return start"
   ]
  },
  {
   "cell_type": "code",
   "execution_count": 23,
   "id": "75a2eb29",
   "metadata": {},
   "outputs": [
    {
     "data": {
      "text/plain": [
       "23220"
      ]
     },
     "execution_count": 23,
     "metadata": {},
     "output_type": "execute_result"
    }
   ],
   "source": [
    "triangle(215)"
   ]
  },
  {
   "cell_type": "code",
   "execution_count": 24,
   "id": "9616e904",
   "metadata": {},
   "outputs": [],
   "source": [
    "def missing_num(lis):\n",
    "    for i in range(1,11):\n",
    "        if i in lis:\n",
    "            pass\n",
    "        else:\n",
    "            return i"
   ]
  },
  {
   "cell_type": "code",
   "execution_count": 25,
   "id": "be96d945",
   "metadata": {},
   "outputs": [
    {
     "data": {
      "text/plain": [
       "5"
      ]
     },
     "execution_count": 25,
     "metadata": {},
     "output_type": "execute_result"
    }
   ],
   "source": [
    "missing_num([1,2,3,4,6,7,8,9,10])"
   ]
  },
  {
   "cell_type": "code",
   "execution_count": null,
   "id": "43bad3e8",
   "metadata": {},
   "outputs": [],
   "source": []
  }
 ],
 "metadata": {
  "kernelspec": {
   "display_name": "Python 3",
   "language": "python",
   "name": "python3"
  },
  "language_info": {
   "codemirror_mode": {
    "name": "ipython",
    "version": 3
   },
   "file_extension": ".py",
   "mimetype": "text/x-python",
   "name": "python",
   "nbconvert_exporter": "python",
   "pygments_lexer": "ipython3",
   "version": "3.8.8"
  }
 },
 "nbformat": 4,
 "nbformat_minor": 5
}
